{
 "cells": [
  {
   "cell_type": "markdown",
   "metadata": {},
   "source": [
    "<div style='text-align: right; font-size: 16px;'>\n",
    "<br/>\n",
    "<img src=\"images/HWR_logo.svg\" alt=\"drawing\" width=\"30%\"/>\n",
    "<br/>\n",
    "Fachbereich Duales Studium Wirtschaft • Technik<br/>\n",
    "ET1031 Mathematische Grundlagen III (Signale und Systeme)<br/>\n",
    "Prof. Dr. Luis Fernando Ferreira Furtado, Berlin, 30.10.2025<br/>\n",
    "</div>"
   ]
  },
  {
   "cell_type": "markdown",
   "metadata": {},
   "source": [
    "# Kapitel 11. Zeitdiskrete Fourier-Transformation und die Schnelle Fourier-Transformation\n",
    "\n",
    "<hr style=\"border:solid #000000 1px;height:1px;\">"
   ]
  },
  {
   "cell_type": "code",
   "execution_count": null,
   "metadata": {},
   "outputs": [],
   "source": [
    "import sympy as sp\n",
    "\n",
    "def dft_matrix(N):\n",
    "    \"\"\"\n",
    "    ------------------------------------------------------------------------------------------------------------\n",
    "    This function constructs the NxN Inverse Discrete Fourier Transform matrix using SymPy\n",
    "\n",
    "    Parameter:\n",
    "        N: the size of the matrix N x N\n",
    "\n",
    "    Returns:\n",
    "        F: the Discrete Fourier Transform matrix (DFT matrix)\n",
    "    ------------------------------------------------------------------------- Dr.Furtado, Berlin, 30.10.2025 ---\n",
    "    \"\"\"\n",
    "    n, k = sp.symbols('n k', integer=True)\n",
    "    omega = sp.exp(-2 * sp.pi * sp.I / N)\n",
    "    F = sp.Matrix([[omega**(k*n) for n in range(N)] for k in range(N)])\n",
    "    return F\n",
    "\n",
    "def idft_matrix(N):\n",
    "    \"\"\"\n",
    "    ------------------------------------------------------------------------------------------------------------\n",
    "    This function constructs the NxN Inverse Discrete Fourier Transform matrix using SymPy\n",
    "\n",
    "    Parameter:\n",
    "        N: the size of the matrix N x N\n",
    "\n",
    "    Returns:\n",
    "        F: the Discrete Fourier Transform matrix (DFT matrix)\n",
    "    ------------------------------------------------------------------------- Dr.Furtado, Berlin, 30.10.2025 ---\n",
    "    \"\"\"\n",
    "    F = dft_matrix(N)\n",
    "    return F.conjugate().T"
   ]
  },
  {
   "cell_type": "markdown",
   "metadata": {},
   "source": [
    "\n",
    "<hr style=\"border:solid #000000 1px;height:1px;\">\n",
    "\n",
    "#### Beispiel 11.3\n",
    "<br/>\n",
    "Finden Sie die diskrete Fourier-Transformationsmatrix (DFT) $ F_N $ für $N=4$."
   ]
  },
  {
   "cell_type": "code",
   "execution_count": null,
   "metadata": {},
   "outputs": [],
   "source": [
    "N = 4\n",
    "F = dft_matrix(N)\n",
    "F"
   ]
  },
  {
   "cell_type": "markdown",
   "metadata": {},
   "source": [
    "<hr style=\"border:solid #000000 1px;height:1px;\">\n",
    "\n",
    "#### Beispiel 11.4\n",
    "<br/>\n",
    "Finden Sie die inverse diskrete Fourier-Transformationsmatrix (IDFT) $ F_N $ für $N=4$.\n"
   ]
  },
  {
   "cell_type": "code",
   "execution_count": null,
   "metadata": {},
   "outputs": [],
   "source": [
    "N = 4\n",
    "F = idft_matrix(N)\n",
    "F"
   ]
  }
 ],
 "metadata": {
  "colab": {
   "collapsed_sections": [],
   "name": "classification.ipynb",
   "private_outputs": true,
   "provenance": [],
   "toc_visible": true
  },
  "kernelspec": {
   "display_name": "py311_HWR",
   "language": "python",
   "name": "py311_hwr"
  },
  "language_info": {
   "codemirror_mode": {
    "name": "ipython",
    "version": 3
   },
   "file_extension": ".py",
   "mimetype": "text/x-python",
   "name": "python",
   "nbconvert_exporter": "python",
   "pygments_lexer": "ipython3",
   "version": "3.11.9"
  },
  "varInspector": {
   "cols": {
    "lenName": 16,
    "lenType": 16,
    "lenVar": 40
   },
   "kernels_config": {
    "python": {
     "delete_cmd_postfix": "",
     "delete_cmd_prefix": "del ",
     "library": "var_list.py",
     "varRefreshCmd": "print(var_dic_list())"
    },
    "r": {
     "delete_cmd_postfix": ") ",
     "delete_cmd_prefix": "rm(",
     "library": "var_list.r",
     "varRefreshCmd": "cat(var_dic_list()) "
    }
   },
   "types_to_exclude": [
    "module",
    "function",
    "builtin_function_or_method",
    "instance",
    "_Feature"
   ],
   "window_display": false
  },
  "vscode": {
   "interpreter": {
    "hash": "6dd2557d908b52826d694ffbbd39ee35b0c1ac6b1ee97b8628fe6ecc02e31c5a"
   }
  }
 },
 "nbformat": 4,
 "nbformat_minor": 4
}
