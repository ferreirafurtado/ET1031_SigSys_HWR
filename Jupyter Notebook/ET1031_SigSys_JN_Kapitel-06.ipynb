{
 "cells": [
  {
   "cell_type": "markdown",
   "metadata": {},
   "source": [
    "<div style='text-align: right; font-size: 16px;'>\n",
    "<br/>\n",
    "<img src=\"images/HWR_logo.svg\" alt=\"drawing\" width=\"30%\"/>\n",
    "<br/>\n",
    "Fachbereich Duales Studium Wirtschaft • Technik<br/>\n",
    "ET1031 Mathematische Grundlagen III (Signale und Systeme)<br/>\n",
    "Prof. Dr. Luis Fernando Ferreira Furtado, Berlin, 16.09.2025<br/>\n",
    "</div>"
   ]
  },
  {
   "cell_type": "markdown",
   "metadata": {},
   "source": [
    "# Kapitel 6. Zeitdiskrete LTI-Systeme und die Faltungssumme\n",
    "\n",
    "<hr style=\"border:solid #000000 1px;height:1px;\">"
   ]
  },
  {
   "cell_type": "code",
   "execution_count": null,
   "metadata": {},
   "outputs": [],
   "source": [
    "from matplotlib import pyplot as plt\n",
    "import numpy as np\n",
    "import inspect\n",
    "\n",
    "# Get the name of the variable used as argument in a function\n",
    "def varName(var):\n",
    "    lcls = inspect.stack()[2][0].f_locals\n",
    "    for name in lcls:\n",
    "        if id(var) == id(lcls[name]):\n",
    "            return name\n",
    "    return None\n",
    "\n",
    "def show_convsum(f, g):\n",
    "\n",
    "    # Get the name of the functions f and g\n",
    "    fname = varName(f)\n",
    "    gname = varName(g)\n",
    "    \n",
    "    # Pad the functions to make them symetric\n",
    "    if len(f) > len(g):\n",
    "        for i in range((len(f)-len(g))//2):\n",
    "            g.insert(0, 0)\n",
    "            g.append(0)\n",
    "    else:\n",
    "        for i in range((len(g)-len(f))//2):\n",
    "            f.insert(0, 0)\n",
    "            f.append(0)    \n",
    "\n",
    "    n = np.arange(-(len(f)//2), len(f)//2+1)\n",
    "\n",
    "    # Plot\n",
    "    fig = plt.figure(figsize=(10, 10))\n",
    "    ax = plt.GridSpec(2, 2, wspace=0.25, hspace=0.25)\n",
    "        \n",
    "    ax1 = plt.subplot(ax[0, 0])\n",
    "    ax1.set_title(fname+'[n]')\n",
    "    ax1.stem(np.arange(-(len(f)//2), len(f)//2+1), f)\n",
    "    ax1.set_xlim(min(n)-0.2, max(n)+0.2) \n",
    "    ax1.set_ylim(min(f+g)-0.2, max(f+g)+0.2) \n",
    "    ax1.set_xticks(np.arange(min(n), max(n)+1))\n",
    "    ax1.set_yticks(np.arange(min(f+g), max(f+g)+1))    \n",
    "    ax1.axhline(0, color='black', alpha=0.5, linewidth=.5)\n",
    "    ax1.axvline(0, color='black', alpha=0.5, linewidth=.5)\n",
    "    ax1.grid(color='black', alpha=0.25, linewidth=.5)    \n",
    "    \n",
    "    ax2 = plt.subplot(ax[0, 1])\n",
    "    ax2.set_title(gname+'[n]')\n",
    "    ax2.stem(np.arange(-(len(g)//2), len(g)//2+1), g, 'orange')\n",
    "    ax2.set_xlim(min(n)-0.2, max(n)+0.2) \n",
    "    ax2.set_ylim(min(f+g)-0.2, max(f+g)+0.2) \n",
    "    ax2.set_xticks(np.arange(min(n), max(n)+1))\n",
    "    ax2.set_yticks(np.arange(min(f+g), max(f+g)+1))    \n",
    "    ax2.axhline(0, color='black', alpha=0.5, linewidth=.5)\n",
    "    ax2.axvline(0, color='black', alpha=0.5, linewidth=.5)\n",
    "    ax2.grid(color='black', alpha=0.25, linewidth=.5)    \n",
    "\n",
    "    y = np.convolve(f, g, mode='full')\n",
    "    n = np.arange(-(len(y)//2), len(y)//2+1)\n",
    "    \n",
    "    ax3 = plt.subplot(ax[1, :])\n",
    "    ax3.set_title('y[n]=' + fname + '[n]*' + gname + '[n]')\n",
    "    ax3.stem(np.arange(-(len(y)//2), len(y)//2+1), y, 'black')\n",
    "    ax3.set_xlim(min(n)-0.2, max(n)+0.2) \n",
    "    ax3.set_ylim(min(y)-0.2, max(y)+0.2) \n",
    "    ax3.set_xticks(np.arange(min(n), max(n)+1))\n",
    "    ax3.set_yticks(np.arange(min(y), max(y)+1))    \n",
    "    ax3.axhline(0, color='black', alpha=0.5, linewidth=.5)\n",
    "    ax3.axvline(0, color='black', alpha=0.5, linewidth=.5)\n",
    "    ax3.grid(color='black', alpha=0.25, linewidth=.5)  \n",
    "\n",
    "    \n",
    "    plt.show()"
   ]
  },
  {
   "cell_type": "markdown",
   "metadata": {},
   "source": [
    "<hr style=\"border:solid #000000 1px;height:1px;\">\n",
    "\n",
    "#### Faltungssumme:\n",
    "__Beispiel 6.1__\n",
    "<br/>Betrachten Sie das Eingangssignal $x(t)$ und die Impulsantwort $h(t)$ und berechnen Sie das Faltungsintegral $y(t)=x(t)*h(t)$ : <br/><br/>\n",
    "$x[n] = \\frac{1}{2}(δ[n]+δ[n-1])$ <br/><br/>\n",
    "$h[n] = δ[n] + 2δ[n-1] + δ[n-2]$"
   ]
  },
  {
   "cell_type": "code",
   "execution_count": null,
   "metadata": {},
   "outputs": [],
   "source": [
    "# x[0] must be in the middle of the definition\n",
    "x = [0, 0, 1, 2, 1]\n",
    "h = [0, 0.5, 0.5]\n",
    "\n",
    "show_convsum(x, h)"
   ]
  },
  {
   "cell_type": "markdown",
   "metadata": {},
   "source": [
    "<hr style=\"border:solid #000000 1px;height:1px;\">\n",
    "\n",
    "#### Faltungssumme:\n",
    "__Beispiel 6.2__\n",
    "<br/>Betrachten Sie das Eingangssignal $x(t)$ und die Impulsantwort $h(t)$ und berechnen Sie das Faltungsintegral $y(t)=x(t)*h(t)$ : <br/><br/>\n",
    "$x[n] = δ[n+1] + 2δ[n] + 3δ[n-1]$ <br/><br/>\n",
    "$h[n] = 2δ[n] + δ[n-1]$"
   ]
  },
  {
   "cell_type": "code",
   "execution_count": null,
   "metadata": {},
   "outputs": [],
   "source": [
    "#6.2\n",
    "# x[0] must be in the middle of the definition\n",
    "x = [1, 2, 3]\n",
    "h = [0, 2, 1]\n",
    "\n",
    "show_convsum(x, h)"
   ]
  },
  {
   "cell_type": "markdown",
   "metadata": {},
   "source": [
    "<hr style=\"border:solid #000000 1px;height:1px;\">\n",
    "\n",
    "#### Faltungssumme:\n",
    "__Beispiel 6.3__\n",
    "<br/>Betrachten Sie das Eingangssignal $x(t)$ und die Impulsantwort $h(t)$ und berechnen Sie das Faltungsintegral $y(t)=x(t)*h(t)$ : <br/><br/>\n",
    "$x[n] = δ[n] + 2δ[n-1] + 3δ[n-2] + δ[n-3]$ <br/><br/>\n",
    "$h[n] = δ[n+1] + 2δ[n] + δ[n-1] - δ[n-2]$"
   ]
  },
  {
   "cell_type": "code",
   "execution_count": null,
   "metadata": {},
   "outputs": [],
   "source": [
    "# 6.3\n",
    "# x[0] must be in the middle of the definition\n",
    "x = [0, 0, 0, 1, 2, 3, 1]\n",
    "h = [0, 1, 2, 1, -1]\n",
    "\n",
    "\n",
    "show_convsum(x, h)"
   ]
  },
  {
   "cell_type": "code",
   "execution_count": null,
   "metadata": {},
   "outputs": [],
   "source": []
  }
 ],
 "metadata": {
  "colab": {
   "collapsed_sections": [],
   "name": "classification.ipynb",
   "private_outputs": true,
   "provenance": [],
   "toc_visible": true
  },
  "kernelspec": {
   "display_name": "py311_HWR",
   "language": "python",
   "name": "py311_hwr"
  },
  "language_info": {
   "codemirror_mode": {
    "name": "ipython",
    "version": 3
   },
   "file_extension": ".py",
   "mimetype": "text/x-python",
   "name": "python",
   "nbconvert_exporter": "python",
   "pygments_lexer": "ipython3",
   "version": "3.11.9"
  },
  "varInspector": {
   "cols": {
    "lenName": 16,
    "lenType": 16,
    "lenVar": 40
   },
   "kernels_config": {
    "python": {
     "delete_cmd_postfix": "",
     "delete_cmd_prefix": "del ",
     "library": "var_list.py",
     "varRefreshCmd": "print(var_dic_list())"
    },
    "r": {
     "delete_cmd_postfix": ") ",
     "delete_cmd_prefix": "rm(",
     "library": "var_list.r",
     "varRefreshCmd": "cat(var_dic_list()) "
    }
   },
   "types_to_exclude": [
    "module",
    "function",
    "builtin_function_or_method",
    "instance",
    "_Feature"
   ],
   "window_display": false
  },
  "vscode": {
   "interpreter": {
    "hash": "6dd2557d908b52826d694ffbbd39ee35b0c1ac6b1ee97b8628fe6ecc02e31c5a"
   }
  }
 },
 "nbformat": 4,
 "nbformat_minor": 4
}
