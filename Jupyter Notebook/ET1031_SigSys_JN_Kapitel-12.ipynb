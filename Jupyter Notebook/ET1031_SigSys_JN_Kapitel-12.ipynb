{
 "cells": [
  {
   "cell_type": "markdown",
   "metadata": {},
   "source": [
    "<div style='text-align: right; font-size: 16px;'>\n",
    "<br/>\n",
    "<img src=\"images/HWR_logo.svg\" alt=\"drawing\" width=\"30%\"/>\n",
    "<br/>\n",
    "Fachbereich Duales Studium Wirtschaft • Technik<br/>\n",
    "ET1031 Mathematische Grundlagen III (Signale und Systeme)<br/>\n",
    "Prof. Dr. Luis Fernando Ferreira Furtado, Berlin, 30.10.2025<br/>\n",
    "</div>"
   ]
  },
  {
   "cell_type": "markdown",
   "metadata": {},
   "source": [
    "# Kapitel 12. Laplace-Transformation für zeitkontinuierliche Analysen\n",
    "\n",
    "<hr style=\"border:solid #000000 1px;height:1px;\">"
   ]
  },
  {
   "cell_type": "code",
   "execution_count": null,
   "metadata": {},
   "outputs": [],
   "source": [
    "import sympy as sp\n",
    "from IPython.display import display, Latex\n",
    "\n",
    "t, s, a, omega = sp.symbols('t s a omega')\n",
    "\n",
    "def laplace(x):\n",
    "    \"\"\"\n",
    "    ------------------------------------------------------------------------------------------------------------\n",
    "    This function does the laplace transform of a function x(t) and displays it\n",
    "\n",
    "    Parameter:\n",
    "        x: a function x(t) written in sympy\n",
    "    ------------------------------------------------------------------------- Dr.Furtado, Berlin, 22.08.2025 ---\n",
    "    \"\"\"  \n",
    "    display(Latex('$ x(t) =('+ str(sp.latex(x)) +') \\cdot u(t)$'))\n",
    "    X = sp.laplace_transform(x, t, s)\n",
    "    display(Latex('$ X(s) ='+ str(sp.latex(X[0])) +'$'))\n",
    "    display(Latex('$ ROC: Re \\{ s \\}>'+ str(sp.latex(X[1])) +'$'))\n",
    "    "
   ]
  },
  {
   "cell_type": "markdown",
   "metadata": {},
   "source": [
    "<hr style=\"border:solid #000000 1px;height:1px;\">\n",
    "\n",
    "#### Tabelle mit Laplace-Transformationen\n",
    "<br/>"
   ]
  },
  {
   "cell_type": "code",
   "execution_count": null,
   "metadata": {},
   "outputs": [],
   "source": [
    "x = t\n",
    "\n",
    "laplace(x)"
   ]
  },
  {
   "cell_type": "code",
   "execution_count": null,
   "metadata": {},
   "outputs": [],
   "source": [
    "x = sp.exp(-a*t)\n",
    "\n",
    "laplace(x)"
   ]
  },
  {
   "cell_type": "code",
   "execution_count": null,
   "metadata": {},
   "outputs": [],
   "source": [
    "x = t * sp.exp(-a*t)\n",
    "\n",
    "laplace(x)"
   ]
  },
  {
   "cell_type": "code",
   "execution_count": null,
   "metadata": {},
   "outputs": [],
   "source": [
    "x = t**2 * sp.exp(-a*t)\n",
    "\n",
    "laplace(x)"
   ]
  },
  {
   "cell_type": "code",
   "execution_count": null,
   "metadata": {},
   "outputs": [],
   "source": [
    "x = sp.sin(omega * t)\n",
    "\n",
    "laplace(x)"
   ]
  },
  {
   "cell_type": "code",
   "execution_count": null,
   "metadata": {},
   "outputs": [],
   "source": [
    "x = sp.cos(omega * t)\n",
    "\n",
    "laplace(x)"
   ]
  },
  {
   "cell_type": "markdown",
   "metadata": {},
   "source": [
    "<hr style=\"border:solid #000000 1px;height:1px;\">\n",
    "\n",
    "#### Beispiel 12.2\n",
    "Finden Sie die Laplace-Transformation 𝑋(𝑠)=ℒ{𝑥(𝑡)} und den Konvergenzbereich in der 𝑠-Ebene der folgenden Funktion:\n",
    "<br/>"
   ]
  },
  {
   "cell_type": "code",
   "execution_count": null,
   "metadata": {},
   "outputs": [],
   "source": [
    "x = 2 * sp.exp(-3 * t) + 5 * sp.exp(-2 * t)\n",
    "\n",
    "laplace(x)"
   ]
  },
  {
   "cell_type": "markdown",
   "metadata": {},
   "source": [
    "<hr style=\"border:solid #000000 1px;height:1px;\">\n",
    "\n",
    "#### Beispiel 12.3\n",
    "Finden Sie die Pole, Nullstellen und Verstärkung und bestimmen Sie den Konvergenzbereich der folgenden Übertragungsfunktionen:\n",
    "<br/>"
   ]
  },
  {
   "cell_type": "code",
   "execution_count": null,
   "metadata": {},
   "outputs": [],
   "source": [
    "from sympy.physics.control.lti import TransferFunction\n",
    "\n",
    "num = 3\n",
    "den = (s + 1)*(s + 2)\n",
    "tf = TransferFunction.from_rational_expression(num / den, s)\n",
    "\n",
    "display(tf)\n",
    "print('Zeros:', tf.zeros())\n",
    "print('Poles:', tf.poles())"
   ]
  },
  {
   "cell_type": "markdown",
   "metadata": {},
   "source": [
    "<hr style=\"border:solid #000000 1px;height:1px;\">\n",
    "\n",
    "#### Beispiel 12.4\n",
    "Finden Sie die Pole, Nullstellen und Verstärkung und bestimmen Sie den Konvergenzbereich der folgenden Übertragungsfunktionen:\n",
    "<br/>"
   ]
  },
  {
   "cell_type": "code",
   "execution_count": null,
   "metadata": {},
   "outputs": [],
   "source": [
    "from sympy.physics.control.lti import TransferFunction\n",
    "\n",
    "num = s - 1\n",
    "den = (s + 1)*(s**2 + 9)\n",
    "tf = TransferFunction.from_rational_expression(num / den, s)\n",
    "\n",
    "display(tf)\n",
    "print('Zeros:', tf.zeros())\n",
    "print('Poles:', tf.poles())"
   ]
  },
  {
   "cell_type": "code",
   "execution_count": null,
   "metadata": {},
   "outputs": [],
   "source": []
  }
 ],
 "metadata": {
  "colab": {
   "collapsed_sections": [],
   "name": "classification.ipynb",
   "private_outputs": true,
   "provenance": [],
   "toc_visible": true
  },
  "kernelspec": {
   "display_name": "py311_HWR",
   "language": "python",
   "name": "py311_hwr"
  },
  "language_info": {
   "codemirror_mode": {
    "name": "ipython",
    "version": 3
   },
   "file_extension": ".py",
   "mimetype": "text/x-python",
   "name": "python",
   "nbconvert_exporter": "python",
   "pygments_lexer": "ipython3",
   "version": "3.11.9"
  },
  "varInspector": {
   "cols": {
    "lenName": 16,
    "lenType": 16,
    "lenVar": 40
   },
   "kernels_config": {
    "python": {
     "delete_cmd_postfix": "",
     "delete_cmd_prefix": "del ",
     "library": "var_list.py",
     "varRefreshCmd": "print(var_dic_list())"
    },
    "r": {
     "delete_cmd_postfix": ") ",
     "delete_cmd_prefix": "rm(",
     "library": "var_list.r",
     "varRefreshCmd": "cat(var_dic_list()) "
    }
   },
   "types_to_exclude": [
    "module",
    "function",
    "builtin_function_or_method",
    "instance",
    "_Feature"
   ],
   "window_display": false
  },
  "vscode": {
   "interpreter": {
    "hash": "6dd2557d908b52826d694ffbbd39ee35b0c1ac6b1ee97b8628fe6ecc02e31c5a"
   }
  }
 },
 "nbformat": 4,
 "nbformat_minor": 4
}
