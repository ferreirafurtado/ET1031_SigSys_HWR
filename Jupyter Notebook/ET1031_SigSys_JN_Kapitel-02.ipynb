{
 "cells": [
  {
   "cell_type": "markdown",
   "metadata": {},
   "source": [
    "<div style='text-align: right; font-size: 16px;'>\n",
    "<br/>\n",
    "<img src=\"images/HWR_logo.svg\" alt=\"drawing\" width=\"30%\"/>\n",
    "<br/>\n",
    "Fachbereich Duales Studium Wirtschaft • Technik<br/>\n",
    "ET1031 Mathematische Grundlagen III (Signale und Systeme)<br/>\n",
    "Prof. Dr. Luis Fernando Ferreira Furtado, Berlin, 22.08.2025<br/>\n",
    "</div>"
   ]
  },
  {
   "attachments": {},
   "cell_type": "markdown",
   "metadata": {
    "execution": {
     "iopub.execute_input": "2023-08-24T11:28:16.530720Z",
     "iopub.status.busy": "2023-08-24T11:28:16.529653Z",
     "iopub.status.idle": "2023-08-24T11:28:16.539675Z",
     "shell.execute_reply": "2023-08-24T11:28:16.537691Z",
     "shell.execute_reply.started": "2023-08-24T11:28:16.530720Z"
    }
   },
   "source": [
    "# Kapitel 2. Mathematische Übersicht\n",
    "\n",
    "<hr style=\"border:solid #000000 1px;height:1px;\">"
   ]
  },
  {
   "cell_type": "code",
   "execution_count": null,
   "metadata": {},
   "outputs": [],
   "source": [
    "import numpy as np\n",
    "import sympy as sp\n",
    "import math\n",
    "import matplotlib.pyplot as plt\n",
    "from IPython.display import display, Latex\n",
    "\n",
    "def cartesian2polar(z):\n",
    "    \"\"\"\n",
    "    ------------------------------------------------------------------------------------------------------------\n",
    "    This function converts a complex number from the cartesian form to the polar form\n",
    "\n",
    "    Parameter:\n",
    "        z: a complex number in the cartesian form\n",
    "\n",
    "    Returns:\n",
    "        radius: a float with the absolute value of the complex number z\n",
    "        angle: a float with the angle (in radians) of the complex number z\n",
    "    ------------------------------------------------------------------------- Dr.Furtado, Berlin, 22.08.2025 ---\n",
    "    \"\"\"    \n",
    "\n",
    "    radius = abs(z)\n",
    "    angle = np.angle(z)\n",
    "\n",
    "    return radius, angle\n",
    "    \n",
    "\n",
    "def polar2cartesian(radius, angle):\n",
    "    \"\"\"\n",
    "    ------------------------------------------------------------------------------------------------------------\n",
    "    This function converts a complex number from the polar form to the cartesian form\n",
    "\n",
    "    Parameter:\n",
    "        radius: a float with the absolute value of the complex number z\n",
    "\n",
    "    Return:\n",
    "        z: a complex number in the cartesian form\n",
    "    ------------------------------------------------------------------------- Dr.Furtado, Berlin, 22.08.2025 ---\n",
    "    \"\"\"      \n",
    "\n",
    "    real = np.cos(angle) * radius\n",
    "    imaginary = np.sin(angle) * radius\n",
    "    z = complex(real, imaginary)\n",
    "\n",
    "    return z\n",
    "\n",
    "\n",
    "def plot_complex(**z):\n",
    "    \"\"\"\n",
    "    ------------------------------------------------------------------------------------------------------------\n",
    "    This function converts a complex number from the polar form to the cartesian form\n",
    "\n",
    "    Parameters:\n",
    "        z*: a complex number (or more complex numbers) to be plotted\n",
    "    ------------------------------------------------------------------------- Dr.Furtado, Berlin, 22.08.2025 ---\n",
    "    \"\"\"      \n",
    "\n",
    "    # Check if dict\n",
    "    for z_ in z:\n",
    "        if type(z[z_])==dict:\n",
    "            z = z[z_]\n",
    "        break\n",
    "\n",
    "    # Set the figure\n",
    "    fig, ax = plt.subplots(1)\n",
    "\n",
    "    # Define and plot the unity circle\n",
    "    theta = np.linspace(0, 2*np.pi, 100)\n",
    "    x = np.cos(theta)\n",
    "    y = np.sin(theta)\n",
    "    ax.plot(x, y, 'grey', linestyle=':', alpha=0.5)\n",
    "\n",
    "    # Get the maximal (x or y) value of all complex numbers\n",
    "    limit = []\n",
    "    for z_ in z:\n",
    "        limit.append(abs(z[z_]))\n",
    "    limit = max(limit)\n",
    "    if limit < 1: limit = 1\n",
    "    limit = math.ceil(1.1 * limit)\n",
    "\n",
    "    # Plot the complex numbers\n",
    "    n = 0\n",
    "    for z_ in z:\n",
    "        label = '$' + z_ + ' = {0:.2f} {1} {2:.2f}j'.format(z[z_].real, '+-'[z[z_].imag < 0], abs(z[z_].imag)) + '$'\n",
    "        ax.arrow(0, 0, z[z_].real, z[z_].imag, label=label, length_includes_head=True,\\\n",
    "            head_width=limit/20, head_length=limit/20, fc=plt.get_cmap('Set1').colors[n], ec=plt.get_cmap('Set1').colors[n])\n",
    "        ax.annotate('$' +z_ + '$', (z[z_].real + limit/100, z[z_].imag + limit/100,) , fontsize=11)\n",
    "        if n>=8: \n",
    "            n=0\n",
    "        else: \n",
    "            n+=1\n",
    "    \n",
    "    # Configure the plot aesthetics\n",
    "    ax.legend(loc='center left', bbox_to_anchor=(1, 0.5), prop=dict(size=9))\n",
    "    ax.set_xlabel('Reale') \n",
    "    ax.set_ylabel('Imaginäre')\n",
    "    ax.tick_params(axis=\"x\", labelsize=8)\n",
    "    ax.tick_params(axis=\"y\", labelsize=8)\n",
    "    ax.axhline(0, color='black', lw=0.5, alpha=0.5)\n",
    "    ax.axvline(0, color='black', lw=0.5, alpha=0.5)\n",
    "    ax.set_aspect(1)\n",
    "    ax.set_axisbelow(True)\n",
    "    plt.grid(linestyle=':', color='grey', alpha=0.5)    \n",
    "    plt.xlim(-limit, limit)\n",
    "    plt.ylim(-limit, limit)\n",
    "    plt.gcf().set_dpi(150)\n",
    "    #plt.style.use('dark_background')\n",
    "\n",
    "    plt.gca().set_position([-0.05, 0.1, 0.9, 0.8])\n",
    "    plt.savefig(\"fig.svg\", format=\"svg\")\n",
    "    # Show the figure\n",
    "    plt.show()"
   ]
  },
  {
   "attachments": {},
   "cell_type": "markdown",
   "metadata": {},
   "source": [
    "<hr style=\"border:solid #000000 1px;height:1px;\">\n",
    "\n",
    "#### Beispiel 2.1\n",
    "__Lineare Gleichung__\n",
    "<br/>\n",
    "Finden die Frequenz $𝑓_𝑜$ und die Konstante $\\mu$ für die folgende Gleichung: $$f(t) = 2\\mu t + f_0$$<br/>\n",
    "<br/>\n",
    "Wenn $𝑡 = 0$ s, dann $f(𝑡) = 200$ Hz.<br/>\n",
    "Wenn $𝑡 = 10$ s, dann $f(𝑡) = 3500$ Hz.<br/>"
   ]
  },
  {
   "cell_type": "code",
   "execution_count": null,
   "metadata": {},
   "outputs": [],
   "source": [
    "t = [0, 10]\n",
    "y = [200, 3500]\n",
    "\n",
    "mu, f_0 = np.polyfit(t,y,1)\n",
    "mu = round(mu/2)\n",
    "f_0 = round(f_0)\n",
    "\n",
    "display(Latex('$f(t)=2(' + str(mu) + ')t + '+ str(f_0) +' $'))"
   ]
  },
  {
   "cell_type": "markdown",
   "metadata": {},
   "source": [
    "<hr style=\"border:solid #000000 1px;height:1px;\">\n",
    "\n",
    "#### Beispiel 2.2\n",
    "__Infinitesimalrechnung__\n",
    "<br/>\n",
    "Berechnen Sie die Ableitung der folgenden Funktionen:\n",
    "<br/><br/>\n",
    "a) $x(t)=e^{-2t}+cos(\\omega t)$\n",
    "<br/><br/>\n",
    "b) $x(t)=e^{-2t}sin(\\omega t)$\n",
    "<br/><br/>\n",
    "c) $x(t)=tan(\\omega t)$"
   ]
  },
  {
   "cell_type": "code",
   "execution_count": null,
   "metadata": {},
   "outputs": [],
   "source": [
    "t, omega = sp.symbols('t omega')\n",
    "\n",
    "# a) \n",
    "x = sp.exp(-2*t) + sp.cos(omega*t)\n",
    "display(sp.diff(x, t))\n",
    "\n",
    "# b) \n",
    "x = sp.exp(-omega*t) * sp.sin(omega*t)\n",
    "display(sp.diff(x, t))\n",
    "\n",
    "# c) \n",
    "x = sp.tan(omega*t)\n",
    "display(sp.diff(x, t))"
   ]
  },
  {
   "cell_type": "markdown",
   "metadata": {},
   "source": [
    "<hr style=\"border:solid #000000 1px;height:1px;\">\n",
    "\n",
    "#### Beispiel 2.3\n",
    "__Infinitesimalrechnung__\n",
    "<br/>\n",
    "Berechnen Sie das folgende Integral:\n",
    "<br/>\n",
    "<br/>\n",
    "$$\\int_{0}^{4} te^{-5t} \\,dt \n"
   ]
  },
  {
   "cell_type": "code",
   "execution_count": null,
   "metadata": {},
   "outputs": [],
   "source": [
    "t = sp.symbols('t')\n",
    "\n",
    "display(sp.integrate(t * sp.exp(-5*t), (t, 0, 4)))"
   ]
  },
  {
   "cell_type": "markdown",
   "metadata": {},
   "source": [
    "<hr style=\"border:solid #000000 1px;height:1px;\">\n",
    "\n",
    "#### Beispiel 2.4\n",
    "__Infinitesimalrechnung__\n",
    "<br/>\n",
    "Summieren Sie die folgende geometrische Reihe:\n",
    "<br/>\n",
    "<br/>\n",
    "$$10 \\sum_{n=5}^{\\infty} (1/2)^{n}$$\n"
   ]
  },
  {
   "cell_type": "code",
   "execution_count": null,
   "metadata": {},
   "outputs": [],
   "source": [
    "n = sp.symbols('n')\n",
    "\n",
    "x = 10 * sp.summation((1/2)**n, (n, 5, sp.oo))\n",
    "\n",
    "display(x)"
   ]
  },
  {
   "cell_type": "markdown",
   "metadata": {},
   "source": [
    "<hr style=\"border:solid #000000 1px;height:1px;\">\n",
    "\n",
    "#### Beispiel 2.5\n",
    "__Komplexe Zahlen__\n",
    "<br/>\n",
    "Bestimmen Sie die Polarform der folgenden komplexen Zahlen in kartesischer Form:\n",
    "<br/>\n",
    "<br/>\n",
    "a) $z_a = 1 + 4j$<br/>\n",
    "b) $z_b = -2 + 3j$<br/>\n",
    "c) $z_c = 3 - 2j$<br/>\n",
    "d) $z_d = -4 -1j$<br/>\n",
    "<br/>"
   ]
  },
  {
   "cell_type": "code",
   "execution_count": null,
   "metadata": {},
   "outputs": [],
   "source": [
    "# Set the input data in cartesian form\n",
    "z_a = 1 + 4j\n",
    "z_b = -2 + 3j\n",
    "z_c = 3 - 2j\n",
    "z_d = -4 - 1j\n",
    "\n",
    "# Display the convertion in the polar form\n",
    "display(Latex('$z_a = ' + str.format(f'{cartesian2polar(z_a)[0]:.{2}f}') + 'e^{j('+ str.format(f'{cartesian2polar(z_a)[1]:.{3}f}') +')}$'))\n",
    "display(Latex('$z_b = ' + str.format(f'{cartesian2polar(z_b)[0]:.{2}f}') + 'e^{j('+ str.format(f'{cartesian2polar(z_b)[1]:.{3}f}') +')}$'))\n",
    "display(Latex('$z_c = ' + str.format(f'{cartesian2polar(z_c)[0]:.{2}f}') + 'e^{j('+ str.format(f'{cartesian2polar(z_c)[1]:.{3}f}') +')}$'))\n",
    "display(Latex('$z_d = ' + str.format(f'{cartesian2polar(z_d)[0]:.{2}f}') + 'e^{j('+ str.format(f'{cartesian2polar(z_d)[1]:.{3}f}') +')}$'))\n",
    "\n",
    "# Plot the graphic\n",
    "plot_complex(z_a=z_a, z_b=z_b, z_c=z_c, z_d=z_d)"
   ]
  },
  {
   "cell_type": "markdown",
   "metadata": {},
   "source": [
    "<hr style=\"border:solid #000000 1px;height:1px;\">\n",
    "\n",
    "#### Beispiel 2.6\n",
    "__Komplexe Zahlen__\n",
    "<br/>\n",
    "Bestimmen Sie die kartesische Form der folgenden komplexen Zahlen in der Polarform:\n",
    "<br/>\n",
    "<br/>\n",
    "a) $z_a = 2e^{j( \\pi /3)}$<br/>\n",
    "b) $z_b = 3e^{j(- \\pi /2)}$<br/>\n",
    "c) $z_c = 4e^{j \\pi}$<br/>\n",
    "d) $z_d = 5e^{-j}$<br/>\n",
    "<br/>"
   ]
  },
  {
   "cell_type": "code",
   "execution_count": null,
   "metadata": {},
   "outputs": [],
   "source": [
    "# Convert the input data in the cartesian form\n",
    "z_a = polar2cartesian(2, np.pi/3)\n",
    "z_b = polar2cartesian(3, -np.pi/2)\n",
    "z_c = polar2cartesian(4, np.pi)\n",
    "z_d = polar2cartesian(5, -1)\n",
    "\n",
    "\n",
    "# Display the convertion in the cartesian form\n",
    "display(Latex('$z_a = ' + str.format(f'{z_a.real:.{2}f}') + str.format(f'{z_a.imag:+.{2}f}') +'j$'))\n",
    "display(Latex('$z_b = ' + str.format(f'{z_b.real:.{2}f}') + str.format(f'{z_b.imag:+.{2}f}') +'j$'))\n",
    "display(Latex('$z_c = ' + str.format(f'{z_c.real:.{2}f}') + str.format(f'{z_c.imag:+.{2}f}') +'j$'))\n",
    "display(Latex('$z_d = ' + str.format(f'{z_d.real:.{2}f}') + str.format(f'{z_d.imag:+.{2}f}') +'j$'))\n",
    "\n",
    "# Plot the graphic\n",
    "plot_complex(z_a=z_a, z_b=z_b, z_c=z_c, z_d=z_d)"
   ]
  },
  {
   "cell_type": "markdown",
   "metadata": {},
   "source": [
    "<hr style=\"border:solid #000000 1px;height:1px;\">\n",
    "\n",
    "#### Beispiel 2.7\n",
    "__Komplexe Zahlen__\n",
    "<br/>\n",
    "Betrachte die beiden komplexen Zahlen $z_1=1+3j$ und $z_2=2e^{j4}$. Dann, berechne:\n",
    "<br/>\n",
    "<br/>\n",
    "a) $z_a = z_1 + z_2$<br/>\n",
    "b) $z_b = z_1 - z_2$<br/>\n",
    "c) $z_c = z_1  z_2$<br/>\n",
    "d) $z_d = z_1 / z_2$<br/>\n",
    "<br/>"
   ]
  },
  {
   "cell_type": "code",
   "execution_count": null,
   "metadata": {},
   "outputs": [],
   "source": [
    "z_1 = 1 + 3j\n",
    "z_2 = polar2cartesian(2, -2)\n",
    "\n",
    "z_a =  z_1 + z_2\n",
    "z_b =  z_1 - z_2\n",
    "z_c =  z_1 * z_2\n",
    "z_d =  z_1 / z_2\n",
    "\n",
    "# Display the convertion in the cartesian form\n",
    "display(Latex(\n",
    "    '$z_1 = ' + str.format(f'{z_1.real:.{2}f}') + str.format(f'{z_1.imag:+.{2}f}') +'j = ' + \n",
    "    str.format(f'{cartesian2polar(z_1)[0]:.{2}f}') + 'e^{j('+ str.format(f'{cartesian2polar(z_1)[1]:.{3}f}') +')}$'))\n",
    "display(Latex(\n",
    "    '$z_2 = ' + str.format(f'{z_2.real:.{2}f}') + str.format(f'{z_2.imag:+.{2}f}') +'j = ' + \n",
    "    str.format(f'{cartesian2polar(z_2)[0]:.{2}f}') + 'e^{j('+ str.format(f'{cartesian2polar(z_2)[1]:.{3}f}') +')}$'))\n",
    "\n",
    "display(Latex(\n",
    "    '$z_a = ' + str.format(f'{z_a.real:.{2}f}') + str.format(f'{z_a.imag:+.{2}f}') +'j = ' + \n",
    "    str.format(f'{cartesian2polar(z_a)[0]:.{2}f}') + 'e^{j('+ str.format(f'{cartesian2polar(z_a)[1]:.{3}f}') +')}$'))\n",
    "display(Latex(\n",
    "    '$z_b = ' + str.format(f'{z_b.real:.{2}f}') + str.format(f'{z_b.imag:+.{2}f}') +'j = ' + \n",
    "    str.format(f'{cartesian2polar(z_b)[0]:.{2}f}') + 'e^{j('+ str.format(f'{cartesian2polar(z_b)[1]:.{3}f}') +')}$'))\n",
    "display(Latex(\n",
    "    '$z_c = ' + str.format(f'{z_c.real:.{2}f}') + str.format(f'{z_c.imag:+.{2}f}') +'j = ' + \n",
    "    str.format(f'{cartesian2polar(z_c)[0]:.{2}f}') + 'e^{j('+ str.format(f'{cartesian2polar(z_c)[1]:.{3}f}') +')}$'))\n",
    "display(Latex(\n",
    "    '$z_d = ' + str.format(f'{z_d.real:.{2}f}') + str.format(f'{z_d.imag:+.{2}f}') +'j = ' + \n",
    "    str.format(f'{cartesian2polar(z_d)[0]:.{2}f}') + 'e^{j('+ str.format(f'{cartesian2polar(z_d)[1]:.{3}f}') +')}$'))"
   ]
  },
  {
   "cell_type": "markdown",
   "metadata": {},
   "source": [
    "<hr style=\"border:solid #000000 1px;height:1px;\">\n",
    "\n",
    "#### Beispiel 2.8\n",
    "__Komplexe Zahlen__\n",
    "<br/>\n",
    "Betrachte die beiden komplexen Zahlen $z_1$ und $z_2$. Dann berechnen und zeichnen Sie $z=z_1 z_2$ in den folgenden Fällen:\n",
    "<br/>\n",
    "<br/>\n",
    "a) $z_1 = 2 + j$ und $z_2 = 0.5$<br/>\n",
    "b) $z_1 = 2 + j$ und $z_2 = j$<br/>\n",
    "c) $z_1 = 2 + j$ und $z_2 = 0.5j$<br/>\n",
    "<br/>"
   ]
  },
  {
   "cell_type": "code",
   "execution_count": null,
   "metadata": {},
   "outputs": [],
   "source": [
    "# a)\n",
    "z_1 = 2 + 1j\n",
    "z_2 = 0.5\n",
    "z_a = z_1 * z_2\n",
    "\n",
    "plot_complex(z_1=z_1, z_2=z_2, z_a=z_a)"
   ]
  },
  {
   "cell_type": "code",
   "execution_count": null,
   "metadata": {},
   "outputs": [],
   "source": [
    "# b)\n",
    "z_1 = 2 + 1j\n",
    "z_2 = 1j\n",
    "z_b = z_1 * z_2\n",
    "\n",
    "plot_complex(z_1=z_1, z_2=z_2, z_b=z_b)"
   ]
  },
  {
   "cell_type": "code",
   "execution_count": null,
   "metadata": {},
   "outputs": [],
   "source": [
    "# c)\n",
    "z_1 = 2 + 1j\n",
    "z_2 = 0.5j\n",
    "z_c = z_1 * z_2\n",
    "\n",
    "plot_complex(z_1=z_1, z_2=z_2, z_c=z_c)"
   ]
  },
  {
   "cell_type": "markdown",
   "metadata": {},
   "source": [
    "<hr style=\"border:solid #000000 1px;height:1px;\">\n",
    "\n",
    "#### Beispiel 2.9\n",
    "__Trigonometrie__\n",
    "<br/>\n",
    "Wenn man $\\theta = - \\pi / 2$ setzt und trigonometrische Identitäten berücksichtigt, wie könnte Gleichung $x(t) = \\hat{x}cos(2 \\pi ft - \\theta)$ umgeschrieben werden?\n",
    "\n",
    "<br/>"
   ]
  },
  {
   "cell_type": "code",
   "execution_count": null,
   "metadata": {},
   "outputs": [],
   "source": [
    "display(Latex('$x(t) = \\hat{x}sin(2 \\pi ft)$'))"
   ]
  },
  {
   "cell_type": "markdown",
   "metadata": {},
   "source": [
    "<hr style=\"border:solid #000000 1px;height:1px;\">\n",
    "\n",
    "#### Beispiel 2.10\n",
    "__Trigonometrische Identitäten__\n",
    "<br/>\n",
    "Wenn man $\\theta = - \\pi / 2$ setzt und trigonometrische Identitäten berücksichtigt, wie könnte Gleichung $x(t) = \\hat{x}cos(2 \\pi ft - \\theta)$ umgeschrieben werden?\n",
    "\n",
    "<br/>"
   ]
  },
  {
   "cell_type": "markdown",
   "metadata": {},
   "source": [
    "<hr style=\"border:solid #000000 1px;height:1px;\">\n",
    "<strong>exp(x) Spiele</strong><br/>"
   ]
  },
  {
   "cell_type": "markdown",
   "metadata": {},
   "source": [
    "<hr style=\"border:solid #000000 1px;height:1px;\">\n",
    "\n",
    "#### Beispiel 2.12\n",
    "__Komplexen Zahlen__\n",
    "<br/>\n",
    "Zwei Signale $𝑥_1(𝑡)=4cos\\left(𝜔t+\\frac{𝜋}{4}\\right)$ und $𝑥_2(𝑡)=6sin(𝜔t)$ haben die gleiche Winkelfrequenz $𝜔$.<br/>\n",
    "Finden Sie das Summensignal $y(t) = x_1(t) + x_2(t)$ in der form $y(t)=Acos(𝜔𝑡+𝜙)$.<br/>"
   ]
  },
  {
   "cell_type": "code",
   "execution_count": null,
   "metadata": {},
   "outputs": [],
   "source": [
    "x_1 = polar2cartesian(4,np.pi/4)\n",
    "x_2 = polar2cartesian(6,-np.pi/2)\n",
    "x = x_1 + x_2\n",
    "\n",
    "display(Latex(\n",
    "    '$x_1 = ' + str.format(f'{x_1.real:.{2}f}') + str.format(f'{x_1.imag:+.{2}f}') +'j = ' + \n",
    "    str.format(f'{cartesian2polar(x_1)[0]:.{2}f}') + 'e^{j('+ str.format(f'{cartesian2polar(x_1)[1]:.{3}f}') +')}$'))\n",
    "display(Latex(\n",
    "    '$x_2 = ' + str.format(f'{x_2.real:.{2}f}') + str.format(f'{x_2.imag:+.{2}f}') +'j = ' + \n",
    "    str.format(f'{cartesian2polar(x_2)[0]:.{2}f}') + 'e^{j('+ str.format(f'{cartesian2polar(x_2)[1]:.{3}f}') +')}$'))\n",
    "display(Latex(\n",
    "    '$x = ' + str.format(f'{x.real:.{2}f}') + str.format(f'{x.imag:+.{2}f}') +'j = ' + \n",
    "    str.format(f'{cartesian2polar(x)[0]:.{2}f}') + 'e^{j('+ str.format(f'{cartesian2polar(x)[1]:.{3}f}') +')}$'))"
   ]
  }
 ],
 "metadata": {
  "colab": {
   "collapsed_sections": [],
   "name": "classification.ipynb",
   "private_outputs": true,
   "provenance": [],
   "toc_visible": true
  },
  "kernelspec": {
   "display_name": "py311_HWR",
   "language": "python",
   "name": "py311_hwr"
  },
  "language_info": {
   "codemirror_mode": {
    "name": "ipython",
    "version": 3
   },
   "file_extension": ".py",
   "mimetype": "text/x-python",
   "name": "python",
   "nbconvert_exporter": "python",
   "pygments_lexer": "ipython3",
   "version": "3.11.9"
  },
  "varInspector": {
   "cols": {
    "lenName": 16,
    "lenType": 16,
    "lenVar": 40
   },
   "kernels_config": {
    "python": {
     "delete_cmd_postfix": "",
     "delete_cmd_prefix": "del ",
     "library": "var_list.py",
     "varRefreshCmd": "print(var_dic_list())"
    },
    "r": {
     "delete_cmd_postfix": ") ",
     "delete_cmd_prefix": "rm(",
     "library": "var_list.r",
     "varRefreshCmd": "cat(var_dic_list()) "
    }
   },
   "types_to_exclude": [
    "module",
    "function",
    "builtin_function_or_method",
    "instance",
    "_Feature"
   ],
   "window_display": false
  },
  "vscode": {
   "interpreter": {
    "hash": "6dd2557d908b52826d694ffbbd39ee35b0c1ac6b1ee97b8628fe6ecc02e31c5a"
   }
  }
 },
 "nbformat": 4,
 "nbformat_minor": 4
}
