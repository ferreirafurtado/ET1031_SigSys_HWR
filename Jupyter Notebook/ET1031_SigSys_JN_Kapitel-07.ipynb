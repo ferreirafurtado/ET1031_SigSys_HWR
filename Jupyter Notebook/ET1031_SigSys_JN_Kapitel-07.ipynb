{
 "cells": [
  {
   "cell_type": "markdown",
   "metadata": {},
   "source": [
    "<div style='text-align: right; font-size: 16px;'>\n",
    "<br/>\n",
    "<img src=\"images/HWR_logo.svg\" alt=\"drawing\" width=\"30%\"/>\n",
    "<br/>\n",
    "Fachbereich Duales Studium Wirtschaft • Technik<br/>\n",
    "ET1031 Mathematische Grundlagen III (Signale und Systeme)<br/>\n",
    "Prof. Dr. Luis Fernando Ferreira Furtado, Berlin, 17.09.2025<br/>\n",
    "</div>"
   ]
  },
  {
   "cell_type": "markdown",
   "metadata": {},
   "source": [
    "# Kapitel 7. LTI-Systeme und die Differenzen- und Differentialgleichungen\n",
    "\n",
    "<hr style=\"border:solid #000000 1px;height:1px;\">"
   ]
  },
  {
   "cell_type": "code",
   "execution_count": null,
   "metadata": {},
   "outputs": [],
   "source": [
    "import scipy.signal as signal\n",
    "import numpy as np\n",
    "import matplotlib.pyplot as plt\n",
    "from matplotlib.gridspec import GridSpec\n",
    "import plotly.graph_objects as go\n",
    "from IPython.display import display, Latex, HTML\n",
    "from ipywidgets import interact, FloatLogSlider\n",
    "import warnings\n",
    "warnings.filterwarnings(\"ignore\")\n",
    "\n",
    "def plot_beispiel_7_2(t, a, b, omega, eq_LaTeX=''):\n",
    "\n",
    "     # Define the input signal x(t)\n",
    "    x = np.cos(omega*t) # Input signal x(t)\n",
    "\n",
    "    # Calculate the output signal y(t) in the transient state\n",
    "    _, y_tansient, _ = signal.lsim((b, a), x, t) # Output signal y(t) in the transient state\n",
    "\n",
    "    # Calculate the output signal y(t) in the steady state using the frequency response\n",
    "    _, H = signal.freqs(b, a, omega) \n",
    "    y_steady = abs(H[0]) * np.cos((omega * t) + np.angle(H[0])) \n",
    "\n",
    "    # Write the equation in LaTeX\n",
    "    if eq_LaTeX != '':\n",
    "        display(Latex(r'\\begin{align}' + r'\\\\' + eq_LaTeX + r'\\\\\\\\ω=' + str(round(omega,3)) +  r' rad/s\\end{align}'))    \n",
    "\n",
    "    # Plot the graphics of x(t), y(t) in the 'transient-state and y(t) in the steady-state\n",
    "    fig = go.Figure()\n",
    "    fig.add_trace(go.Scatter(x=t, y=x, mode='lines', name='x(t)'))\n",
    "    fig.add_trace(go.Scatter(x=t, y=y_tansient, mode='lines', name='y(t) [transient]'))\n",
    "    fig.add_trace(go.Scatter(x=t, y=y_steady, mode='lines', name='y(t) [steady]'))\n",
    "    fig.update_layout(height=400, title_text='Transienter Zustand ', template='plotly_white', xaxis=dict(title_text='t'),\n",
    "                     legend=dict(orientation=\"h\", yanchor=\"bottom\", y=1.02, xanchor=\"right\", x=1))\n",
    "    \n",
    "    fig.show()\n",
    "\n",
    "\n",
    "def plot_bode(num, den):\n",
    "    # num = Übertragungsfunktion-Zähler im Listenformat\n",
    "    # den = Übertragungsfunktion-Nenner im Listenformat\n",
    "    \n",
    "    # Build the systeme with the transfer function\n",
    "    sys = signal.TransferFunction(num, den)\n",
    "\n",
    "    # Calculate the Bode-Plot parameters\n",
    "    w, amp, phase = signal.bode(sys)\n",
    "    \n",
    "    # Bode-Diagramm\n",
    "    fig = plt.figure(figsize=(14, 4), facecolor='white')\n",
    "    gs = GridSpec(nrows=1, ncols=2)    \n",
    "\n",
    "    # Magnitude (Bode-Plot)\n",
    "    ax = fig.add_subplot(gs[:, 0])\n",
    "    ax.semilogx(w, amp)  \n",
    "    plt.title('Bode-Diagramm für Amplitude')\n",
    "    plt.xlabel('Frequenz [rad/s]'); plt.ylabel('Amplitude [dB]')\n",
    "    plt.margins(0, 0.1)\n",
    "    plt.grid(which='both', axis='both')\n",
    "    \n",
    "    # Phase (Bode-Plot)\n",
    "    ax = fig.add_subplot(gs[:, 1])\n",
    "    ax.semilogx(w, phase)\n",
    "    plt.title('Bode-Diagramm für Phase')\n",
    "    plt.xlabel('Frequenz [rad/s]'); plt.ylabel('Phase [°]')\n",
    "    plt.margins(0, 0.1)\n",
    "    plt.grid(which='both', axis='both')    \n",
    "    \n",
    "    plt.show()"
   ]
  },
  {
   "attachments": {},
   "cell_type": "markdown",
   "metadata": {},
   "source": [
    "<hr style=\"border:solid #000000 1px;height:1px;\">\n",
    "\n",
    "#### Frequenzgang\n",
    "__Beispiel 7.1__\n",
    "<br/>\n",
    "Berechnen Sie den Frequenzgang $𝐻(𝑓)$ für die folgenden Differentialgleichungen bei einer konstanten Frequenz $𝑓=1𝐻𝑧$:\n",
    "<br/><br/>\n",
    "a) $y(t) = 2x(t)$<br/>\n",
    "b) $3y'(t) + 2y(t) = -8x(t)$<br/>\n",
    "c) $y''(t) + 2y'(t) + 2y(t) = 2x(t)$<br/>"
   ]
  },
  {
   "cell_type": "code",
   "execution_count": null,
   "metadata": {},
   "outputs": [],
   "source": [
    "frequency = 1E0 # Hz\n",
    "omega = 2 * np.pi * frequency\n",
    "\n",
    "# a)\n",
    "b = [2] # coeficients for x(t)\n",
    "a = [1] # coeficients for y(t)\n",
    "w, H = signal.freqs(b, a, omega) # w=omega, H=Frequenzgang\n",
    "print('a) |H(f)| =',round(abs(H[0]),2), ';  ∠H(f) =', round(np.angle(H[0]), 3), 'rad') \n",
    "\n",
    "# b)\n",
    "b = [0, -8] # coeficients for x(t)\n",
    "a = [3, 2] # coeficients for y(t)\n",
    "w, H = signal.freqs(b, a, omega) # w=omega, H=Frequenzgang\n",
    "print('b) |H(f)| =',round(abs(H[0]),2), ';  ∠H(f) =', round(np.angle(H[0]), 3), 'rad') \n",
    "\n",
    "# c)\n",
    "b = [0, 0, 2] # coeficients for x(t)\n",
    "a = [1, 2, 2] # coeficients for y(t)\n",
    "w, H = signal.freqs(b, a, omega) # w=omega, H=Frequenzgang\n",
    "print('c) |H(f)| =',round(abs(H[0]),2), ';  ∠H(f) =', round(np.angle(H[0]), 3), 'rad') \n"
   ]
  },
  {
   "cell_type": "markdown",
   "metadata": {},
   "source": [
    "<hr style=\"border:solid #000000 1px;height:1px;\">\n",
    "\n",
    "#### Transienter Zustand vs. stationärer Zustand\n",
    "__Beispiel 7.2__\n",
    "<br/>\n",
    "Zeichnen Sie das Eingangssignal und das Ausgangssignal (im transienten und im stationären Zustand) für die folgenden Differentialgleichungen bei einer konstanten Frequenz $𝑓=1𝐻𝑧$:\n",
    "<br/><br/>\n",
    "a) $y(t) = 2x(t)$<br/>\n",
    "b) $3y'(t) - 2y(t) = -8x(t)$<br/>\n",
    "c) $y''(t) + 2y'(t) + 2y(t) = 2x(t)$<br/>"
   ]
  },
  {
   "cell_type": "code",
   "execution_count": null,
   "metadata": {},
   "outputs": [],
   "source": [
    "frequency = 1 # Hz\n",
    "omega = 2 * np.pi * frequency\n",
    "t = np.arange(0, 10+.01, .01)\n",
    "\n",
    "# a)\n",
    "b = [2] # coeficients for x(t)\n",
    "a = [1] # coeficients for y(t)\n",
    "plot_beispiel_7_2(t, a, b, omega, eq_LaTeX=\"y(t) = 2x(t)\")\n",
    "\n",
    "# b)\n",
    "b = [0, -8] # coeficients for x(t)\n",
    "a = [3, 2] # coeficients for y(t)\n",
    "plot_beispiel_7_2(t, a, b, omega, eq_LaTeX=\"3y'(t) + 2y(t) = -8x(t)\")\n",
    "\n",
    "# c)\n",
    "b = [0, 0, 2] # coeficients for x(t)\n",
    "a = [1, 2, 2] # coeficients for y(t)\n",
    "plot_beispiel_7_2(t, a, b, omega, eq_LaTeX=\"y''(t) + 2y'(t) + 2y(t) = 2x(t)\")\n"
   ]
  },
  {
   "cell_type": "markdown",
   "metadata": {},
   "source": [
    "<hr style=\"border:solid #000000 1px;height:1px;\">\n",
    "\n",
    "#### Transienter Zustand vs. stationärer Zustand\n",
    "__Beispiel 7.3__\n",
    "<br/>\n",
    "Was passiert mit dem Ausgang $y(t)$, wenn sich die Frequenz in den folgenden Differentialgleichungen ändert?:\n",
    "<br/><br/>\n",
    "a) $y(t) = 2x(t)$<br/>\n",
    "b) $3y'(t) - 2y(t) = -8x(t)$<br/>\n",
    "c) $y''(t) + 2y'(t) + 2y(t) = 2x(t)$<br/>\n"
   ]
  },
  {
   "cell_type": "code",
   "execution_count": null,
   "metadata": {},
   "outputs": [],
   "source": [
    "for power in [-2, -1, 0, 1, 2, 3]:\n",
    "\n",
    "    frequency = 1 * 10** power # Hz\n",
    "    omega = 2 * np.pi * frequency\n",
    "\n",
    "    # a)\n",
    "    b = [2] # coeficients for x(t)\n",
    "    a = [1] # coeficients for y(t)\n",
    "    w, H = signal.freqs(b, a, omega) # w=omega, H=Frequenzgang\n",
    "    print('a) |H(f)| =',abs(H[0]), ';  ∠H(f) =', round(np.angle(H[0]), 3), 'rad;  f=',frequency, 'Hz') \n",
    "\n",
    "    # b)\n",
    "    b = [0, -8] # coeficients for x(t)\n",
    "    a = [3, 2] # coeficients for y(t)\n",
    "    w, H = signal.freqs(b, a, omega) # w=omega, H=Frequenzgang\n",
    "    print('b) |H(f)| =',abs(H[0]), ';  ∠H(f) =', round(np.angle(H[0]), 3), 'rad;  f=',frequency, 'Hz') \n",
    "\n",
    "    # c)\n",
    "    b = [0, 0, 2] # coeficients for x(t)\n",
    "    a = [1, 2, 2] # coeficients for y(t)\n",
    "    w, H = signal.freqs(b, a, omega) # w=omega, H=Frequenzgang\n",
    "    print('c) |H(f)| =',abs(H[0]), ';  ∠H(f) =', round(np.angle(H[0]), 3), 'rad;  f=',frequency, 'Hz\\n') \n"
   ]
  },
  {
   "cell_type": "code",
   "execution_count": null,
   "metadata": {},
   "outputs": [],
   "source": [
    "def update(omega):\n",
    "\n",
    "    resolution = 0.09/(np.pi*omega**0.5)\n",
    "    t = np.arange(0, 10+resolution, resolution)\n",
    "    b = [2] # coeficients for x(t)\n",
    "    a = [1] # coeficients for y(t)\n",
    "    plot_beispiel_7_2(t, a, b, omega, eq_LaTeX=\"y(t) = 2x(t)\")\n",
    "\n",
    "    _, H = signal.freqs(b, a, omega) \n",
    "    print('a) Frequenzgang: |H(f)| =', abs(H[0]), ';  ∠H(f) =', round(np.angle(H[0]), 3), 'rad')    \n",
    "\n",
    "omega = FloatLogSlider(min=0, max=3, value=2, step=0.1, description='ω [rad/s]')\n",
    "interact(update, omega=omega);"
   ]
  },
  {
   "cell_type": "code",
   "execution_count": null,
   "metadata": {},
   "outputs": [],
   "source": [
    "def update(omega):\n",
    "\n",
    "    resolution = 0.09/(np.pi*omega**0.5)\n",
    "    t = np.arange(0, 10+resolution, resolution)\n",
    "    b = [0, -8] # coeficients for x(t)\n",
    "    a = [3, 2] # coeficients for y(t)\n",
    "    plot_beispiel_7_2(t, a, b, omega, eq_LaTeX=\"3y'(t) + 2y(t) = -8x(t)\")\n",
    "    \n",
    "    _, H = signal.freqs(b, a, omega) \n",
    "    print('b) Frequenzgang: |H(f)| =', abs(H[0]), ';  ∠H(f) =', round(np.angle(H[0]), 3), 'rad')     \n",
    "\n",
    "omega = FloatLogSlider(min=0, max=3, value=2, step=0.1, description='ω [rad/s]')\n",
    "interact(update, omega=omega);"
   ]
  },
  {
   "cell_type": "code",
   "execution_count": null,
   "metadata": {},
   "outputs": [],
   "source": [
    "def update(omega):\n",
    "\n",
    "    resolution = 0.09/(np.pi*omega**0.5)\n",
    "    t = np.arange(0, 10+resolution, resolution)\n",
    "    b = [0, 0, 2] # coeficients for x(t)\n",
    "    a = [1, 2, 2] # coeficients for y(t)\n",
    "    plot_beispiel_7_2(t, a, b, omega, eq_LaTeX=\"y''(t) + 2y'(t) + 2y(t) = 2x(t)\")\n",
    "    \n",
    "    _, H = signal.freqs(b, a, omega) \n",
    "    print('c) Frequenzgang: |H(f)| =',abs(H[0]), ';  ∠H(f) =', round(np.angle(H[0]), 3), 'rad')     \n",
    "\n",
    "omega = FloatLogSlider(min=0, max=3, value=2, step=0.1, description='ω [rad/s]')\n",
    "interact(update, omega=omega);"
   ]
  },
  {
   "cell_type": "markdown",
   "metadata": {},
   "source": [
    "<hr style=\"border:solid #000000 1px;height:1px;\">\n",
    "\n",
    "#### Bode-Diagramm\n",
    "__Beispiel 7.4__\n",
    "<br/>\n",
    "Zeichnen Sie das Bode-Diagramm für die folgenden Differentialgleichungen:\n",
    "<br/><br/>\n",
    "a) $y(t) = 2x(t)$<br/>\n",
    "b) $3y'(t) - 2y(t) = -8x(t)$<br/>\n",
    "c) $y''(t) + 2y'(t) + 2y(t) = 2x(t)$<br/>"
   ]
  },
  {
   "cell_type": "code",
   "execution_count": null,
   "metadata": {},
   "outputs": [],
   "source": [
    "# a)\n",
    "b = [2] # coeficients for x(t)\n",
    "a = [1] # coeficients for y(t)\n",
    "display(Latex(r'\\begin{align}' + r\"\\\\y(t) = 2x(t)\" + r'\\end{align}'))  \n",
    "plot_bode(b, a)\n",
    "\n",
    "# b)\n",
    "b = [0, -8] # coeficients for x(t)\n",
    "a = [3, 2] # coeficients for y(t)\n",
    "display(Latex(r'\\begin{align}' + r\"\\\\3y'(t) + 2y(t) = -8x(t)\" + r'\\end{align}'))  \n",
    "plot_bode(b, a)\n",
    "\n",
    "# c)\n",
    "b = [0, 0, 2] # coeficients for x(t)\n",
    "a = [1, 2, 2] # coeficients for y(t)\n",
    "display(Latex(r'\\begin{align}' + r\"\\\\y''(t) + 2y'(t) + 2y(t) = 2x(t)\" + r'\\end{align}'))  \n",
    "plot_bode(b, a)"
   ]
  },
  {
   "cell_type": "code",
   "execution_count": null,
   "metadata": {},
   "outputs": [],
   "source": []
  }
 ],
 "metadata": {
  "colab": {
   "collapsed_sections": [],
   "name": "classification.ipynb",
   "private_outputs": true,
   "provenance": [],
   "toc_visible": true
  },
  "kernelspec": {
   "display_name": "py311_HWR",
   "language": "python",
   "name": "py311_hwr"
  },
  "language_info": {
   "codemirror_mode": {
    "name": "ipython",
    "version": 3
   },
   "file_extension": ".py",
   "mimetype": "text/x-python",
   "name": "python",
   "nbconvert_exporter": "python",
   "pygments_lexer": "ipython3",
   "version": "3.11.9"
  },
  "varInspector": {
   "cols": {
    "lenName": 16,
    "lenType": 16,
    "lenVar": 40
   },
   "kernels_config": {
    "python": {
     "delete_cmd_postfix": "",
     "delete_cmd_prefix": "del ",
     "library": "var_list.py",
     "varRefreshCmd": "print(var_dic_list())"
    },
    "r": {
     "delete_cmd_postfix": ") ",
     "delete_cmd_prefix": "rm(",
     "library": "var_list.r",
     "varRefreshCmd": "cat(var_dic_list()) "
    }
   },
   "types_to_exclude": [
    "module",
    "function",
    "builtin_function_or_method",
    "instance",
    "_Feature"
   ],
   "window_display": false
  },
  "vscode": {
   "interpreter": {
    "hash": "6dd2557d908b52826d694ffbbd39ee35b0c1ac6b1ee97b8628fe6ecc02e31c5a"
   }
  }
 },
 "nbformat": 4,
 "nbformat_minor": 4
}
