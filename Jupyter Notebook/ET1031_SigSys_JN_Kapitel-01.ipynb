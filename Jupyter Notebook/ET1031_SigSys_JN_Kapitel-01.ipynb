{
 "cells": [
  {
   "cell_type": "markdown",
   "metadata": {},
   "source": [
    "<div style='text-align: right; font-size: 16px;'>\n",
    "<br/>\n",
    "<img src=\"images/HWR_logo.svg\" alt=\"drawing\" width=\"30%\"/>\n",
    "<br/>\n",
    "Fachbereich Duales Studium Wirtschaft • Technik<br/>\n",
    "ET1031 Mathematische Grundlagen III (Signale und Systeme)<br/>\n",
    "Prof. Dr. Luis Fernando Ferreira Furtado, Berlin, 22.08.2025<br/>\n",
    "</div>"
   ]
  },
  {
   "cell_type": "markdown",
   "metadata": {
    "execution": {
     "iopub.execute_input": "2023-08-24T11:28:16.530720Z",
     "iopub.status.busy": "2023-08-24T11:28:16.529653Z",
     "iopub.status.idle": "2023-08-24T11:28:16.539675Z",
     "shell.execute_reply": "2023-08-24T11:28:16.537691Z",
     "shell.execute_reply.started": "2023-08-24T11:28:16.530720Z"
    }
   },
   "source": [
    "# Kapitel 1. Einführung in Signale und Systeme"
   ]
  },
  {
   "cell_type": "markdown",
   "metadata": {
    "execution": {
     "iopub.execute_input": "2023-08-24T16:26:16.546480Z",
     "iopub.status.busy": "2023-08-24T16:26:16.545481Z",
     "iopub.status.idle": "2023-08-24T16:26:16.556274Z",
     "shell.execute_reply": "2023-08-24T16:26:16.554286Z",
     "shell.execute_reply.started": "2023-08-24T16:26:16.546480Z"
    }
   },
   "source": [
    "<hr style=\"border:solid #000000 1px;height:1px;\">\n",
    "\n",
    "#### Beispiel 1.1\n",
    "__Digitales Faltungsfilter__\n",
    "<br/>\n",
    "Ein digitaler Faltungsfilter ist ein System, das eine Faltungssumme der Systemimpulsantwort ℎ[𝑛] mit dem Eingangssignal 𝑥[𝑛] implementiert, um ein gefiltertes Ausgangssignal 𝑦[𝑛] zu erhalten.\n"
   ]
  },
  {
   "cell_type": "code",
   "execution_count": null,
   "metadata": {},
   "outputs": [],
   "source": [
    "import numpy as np\n",
    "import plotly.graph_objects as go\n",
    "\n",
    "# Define the impulse response (Filter)\n",
    "h = [3/6, 2/6, 1/6]\n",
    "#h = [0.4, 0.3, 0.2, 0.1]\n",
    "#h = np.ones(10)/10\n",
    "#h = [0.11, 0.1, 0.1, 0.1, 0.1, 0.1, 0.1, 0.1, 0.1, 0.1]\n",
    "\n",
    "# Define a time axis and a random signal as example \n",
    "samples = 200\n",
    "t = np.arange(0, samples) # Time in seconds\n",
    "x_desired = (t/(samples/10)) + (t/(samples/10))**2 # Desired signal\n",
    "x_noise = x_desired + np.random.normal(0, 4, size=len(t)) # Noisy signal\n",
    "\n",
    "# Execute the convolutional sum (fiter the noise signal)\n",
    "x_filtered = np.convolve(x_noise, h)[:samples]\n",
    "\n",
    "# Plot\n",
    "fig = go.Figure()\n",
    "fig.add_trace(go.Scatter(x=t, y=x_desired, name='x_desired[n]', mode='markers', marker=dict(size=5, color=\"#28CC12\")))\n",
    "fig.add_trace(go.Scatter(x=t, y=x_noise, name='x_noise[n]', mode='markers', marker=dict(size=5, color='#D50C2F')))\n",
    "fig.add_trace(go.Scatter(x=t, y=x_filtered, name='x_filtered[n]', mode='markers', marker=dict(size=5, color='#0070C0')))\n",
    "\n",
    "fig.update_layout(xaxis_title='samples', yaxis_title='value', template='plotly_white',\n",
    "                  xaxis_range=[0,samples], yaxis_range=[0,120], height=600, width=1000, \n",
    "                  title=dict(text='Digitales Faltungsfilter'))\n",
    "\n",
    "fig.update_xaxes(showline=True, linewidth=1, linecolor='black')\n",
    "fig.update_yaxes(showline=True, linewidth=1, linecolor='black')\n",
    "\n",
    "fig.show()\n",
    "\n"
   ]
  },
  {
   "cell_type": "markdown",
   "metadata": {},
   "source": [
    "<hr style=\"border:solid #000000 1px;height:1px;\">\n",
    "\n",
    "#### Beispiel 1.2\n",
    "__Beispiel eines digitalen Filters__\n",
    "<br/>\n",
    "Während der Pandemiezeit war es schwierig, die Infektionswellen nur mit täglichen Daten zu erkennen. Eine rollierende Summe von 7 Tagen wurde verwendet, um die Daten zu „filtern“ und eine leichter zu erkennende Grafik zu erstellen. <br><br>\n",
    "Daten-Quelle: obert Koch-Institut https://zenodo.org/records/13358115\n",
    "\n"
   ]
  },
  {
   "cell_type": "code",
   "execution_count": null,
   "metadata": {},
   "outputs": [],
   "source": [
    "import pandas as pd\n",
    "import numpy as np\n",
    "import plotly.graph_objects as go\n",
    "\n",
    "# Read the csv data\n",
    "df = pd.read_csv('data\\\\COVID-19-Faelle_7-Tage-Inzidenz_Deutschland.csv', usecols=['Meldedatum', 'Faelle_neu'])\n",
    "\n",
    "# Sum the daily data\n",
    "df = df.groupby('Meldedatum').sum().reset_index()\n",
    "\n",
    "# Define the impulse response (7 Tage Rolling Sum)\n",
    "h = [1, 1, 1, 1, 1, 1, 1]\n",
    "\n",
    "# Execute the convolutional sum (fiter the noise signal)\n",
    "df['Faelle_7-Tage'] = np.convolve(df['Faelle_neu'], h)[:len(df['Faelle_neu'])]\n",
    "\n",
    "# Plot (time-domain)\n",
    "fig = go.Figure()\n",
    "fig.add_trace(go.Scatter(x=df['Meldedatum'], y=df['Faelle_neu'], mode='markers', marker=dict(size=4, color='#D50C2F'), name='Fälle_neu'))\n",
    "fig.add_trace(go.Scatter(x=df['Meldedatum'], y=df['Faelle_7-Tage'], mode='markers', marker=dict(size=4, color='#0070C0'), name='Fälle_7-Tage'))\n",
    "fig.update_layout(template='plotly_white', xaxis = dict(title_text='Tage'), margin=dict(l=20, r=20, t=20, b=20),\n",
    "                  height=400, #width=600,\n",
    "                  yaxis_range=[0,3.5E6], xaxis_range=[\"2020-01-03\",\"2024-08-22\"])\n",
    "\n",
    "fig.update_xaxes(showline=True, linewidth=1, linecolor='black')\n",
    "fig.update_yaxes(showline=True, linewidth=1, linecolor='black')\n",
    "\n",
    "fig.show() "
   ]
  },
  {
   "cell_type": "markdown",
   "metadata": {},
   "source": [
    "<hr style=\"border:solid #000000 1px;height:1px;\">\n",
    "\n",
    "#### Beispiel 1.3\n",
    "__Impulswahlverfahren vs Mehrfrequenzwahlverfahren__\n",
    "<br/>\n",
    "- Die Impulswahlverfahren und Mehrfrequenzwahlverfahren (MFV) – DTMF auf Englisch (Dual-Tone Multi-Frequency) – sind zwei Verfahren, die in Telefonsystemen zur Übertragung von gewählten Nummern verwendet werden.\n",
    "- Bei der Impulswahl wird jede Ziffer durch eine Reihe von elektrischen Impulsen dargestellt, während bei MFV für jede Ziffer bestimmte Töne verwendet werden. \n",
    "- Die MFV generiert ein Signal, das zwei oszillierende Signale mit unterschiedlichen Frequenzen summiert, eines für die Spalte und eines für die Zeile der ausgewählten Zahl.\n",
    "\n",
    "| |1209 Hz|1336 Hz|1477 Hz|\n",
    "|-:|:-:|:-:|:-:|\n",
    "| __697 Hz__ |1|2|3|\n",
    "| __770 Hz__ |4|5|6|\n",
    "| __852 Hz__ |7|8|9|\n",
    "| __941 Hz__ |*|0|#|"
   ]
  },
  {
   "cell_type": "code",
   "execution_count": null,
   "metadata": {},
   "outputs": [],
   "source": [
    "from IPython.display import Audio, display\n",
    "import numpy as np\n",
    "import pandas as pd\n",
    "import plotly.express as px\n",
    "from ipywidgets import interact\n",
    "\n",
    "# Definition of a function that calculates the signals and displays the audio players and graphics\n",
    "def make_sound(button):\n",
    "\n",
    "    # Define a dictionary to store the frequencies of each button\n",
    "    btn_freq = {\n",
    "        1: [697, 1209], # button: [column, row]\n",
    "        2: [697, 1336], # button: [column, row]\n",
    "        3: [697, 1477], # button: [column, row]\n",
    "        4: [770, 1209], # button: [column, row]\n",
    "        5: [770, 1336], # button: [column, row]\n",
    "        6: [770, 1477], # button: [column, row]\n",
    "        7: [852, 1209], # button: [column, row]\n",
    "        8: [852, 1336], # button: [column, row]\n",
    "        9: [852, 1477], # button: [column, row]\n",
    "        0: [941, 1336]  # button: [column, row]\n",
    "    }\n",
    "\n",
    "    # Sampling configuration\n",
    "    sampling_rate = 44100 # Sampling rate (Hz)\n",
    "    seconds = 3           # Seconds to be recorded\n",
    "    samples = sampling_rate * seconds # Samples\n",
    "    amp = 15E3 # amplitude must be between -32767 and 32767 (16 bits)\n",
    "    t=np.arange(samples)\n",
    "\n",
    "    # Calculate the signals\n",
    "    x_row = amp*np.sin(2 * np.pi * btn_freq[button][0] * t / sampling_rate)\n",
    "    x_column = amp*np.sin(2 * np.pi * btn_freq[button][1] * t / sampling_rate)\n",
    "    y = x_column + x_row\n",
    "\n",
    "    # Display sounds\n",
    "    print('Button:', button)\n",
    "    display(Audio(y, rate=sampling_rate))\n",
    "    print('Row:', btn_freq[button][0], 'Hz')\n",
    "    display(Audio(x_row, rate=sampling_rate))        \n",
    "    print('Column:', btn_freq[button][1], 'Hz')\n",
    "    display(Audio(x_column, rate=sampling_rate))\n",
    "    \n",
    "    # Plot (time-domain)\n",
    "    x_max = int(0.02 * sampling_rate) + 1\n",
    "    df = pd.DataFrame({'time [s]':t[:x_max]/sampling_rate, 'y':y[:x_max], 'x_row':x_row[:x_max], 'x_column':x_column[:x_max],})\n",
    "    fig = px.line(df, x='time [s]', y=['y', 'x_row', 'x_column'], title='Button '+str(button), template='plotly_white', range_y=[-2*amp, 2*amp])\n",
    "    fig.update_layout(xaxis_title='time [s]', yaxis_title='amplitude',\n",
    "                      height=400, width=1200,\n",
    "                      )\n",
    "    fig.show()\n",
    "\n",
    "    # Plot (frequency-domain)\n",
    "    fig = px.scatter(template='plotly_white', range_x=[0, 1500], range_y=[0, amp], opacity=0)\n",
    "    fig.update_layout(xaxis_title='frequency [Hz]', yaxis_title='amplitude',\n",
    "                      height=400, width=1200,\n",
    "                      )\n",
    "    for freq in [697, 770, 852, 941]:\n",
    "        fig.add_vline(x=freq, line_width=0.5, line_dash='dash', line_color='#EF553B')\n",
    "    fig.add_vline(x=btn_freq[button][0], line_width=3, line_color='#EF553B')    \n",
    "    for freq in [1209, 1336, 1477]:\n",
    "        fig.add_vline(x=freq, line_width=0.5, line_dash='dash', line_color='#00CC96')\n",
    "    fig.add_vline(x=btn_freq[button][1], line_width=3, line_color='#00CC96')    \n",
    "    fig.show()\n",
    "\n",
    "# Execute the defined function with the DropBox intera\n",
    "# ction\n",
    "interact(make_sound, button=range(10));"
   ]
  },
  {
   "cell_type": "code",
   "execution_count": null,
   "metadata": {},
   "outputs": [],
   "source": []
  }
 ],
 "metadata": {
  "colab": {
   "collapsed_sections": [],
   "name": "classification.ipynb",
   "private_outputs": true,
   "provenance": [],
   "toc_visible": true
  },
  "kernelspec": {
   "display_name": "py311_HWR",
   "language": "python",
   "name": "py311_hwr"
  },
  "language_info": {
   "codemirror_mode": {
    "name": "ipython",
    "version": 3
   },
   "file_extension": ".py",
   "mimetype": "text/x-python",
   "name": "python",
   "nbconvert_exporter": "python",
   "pygments_lexer": "ipython3",
   "version": "3.11.9"
  },
  "varInspector": {
   "cols": {
    "lenName": 16,
    "lenType": 16,
    "lenVar": 40
   },
   "kernels_config": {
    "python": {
     "delete_cmd_postfix": "",
     "delete_cmd_prefix": "del ",
     "library": "var_list.py",
     "varRefreshCmd": "print(var_dic_list())"
    },
    "r": {
     "delete_cmd_postfix": ") ",
     "delete_cmd_prefix": "rm(",
     "library": "var_list.r",
     "varRefreshCmd": "cat(var_dic_list()) "
    }
   },
   "types_to_exclude": [
    "module",
    "function",
    "builtin_function_or_method",
    "instance",
    "_Feature"
   ],
   "window_display": false
  }
 },
 "nbformat": 4,
 "nbformat_minor": 4
}
