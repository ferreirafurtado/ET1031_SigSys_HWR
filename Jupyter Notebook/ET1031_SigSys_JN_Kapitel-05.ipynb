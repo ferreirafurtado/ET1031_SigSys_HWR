{
 "cells": [
  {
   "cell_type": "markdown",
   "metadata": {
    "jp-MarkdownHeadingCollapsed": true
   },
   "source": [
    "<div style='text-align: right; font-size: 16px;'>\n",
    "<br/>\n",
    "<img src=\"images/HWR_logo.svg\" alt=\"drawing\" width=\"30%\"/>\n",
    "<br/>\n",
    "Fachbereich Duales Studium Wirtschaft • Technik<br/>\n",
    "ET1031 Mathematische Grundlagen III (Signale und Systeme)<br/>\n",
    "Prof. Dr. Luis Fernando Ferreira Furtado, Berlin, 16.09.2025<br/>\n",
    "</div>"
   ]
  },
  {
   "cell_type": "markdown",
   "metadata": {},
   "source": [
    "# Kapitel 5. Zeitkontinuierliche LTI-Systeme und die Faltungsintegral\n",
    "\n",
    "<hr style=\"border:solid #000000 1px;height:1px;\">"
   ]
  },
  {
   "cell_type": "code",
   "execution_count": null,
   "metadata": {},
   "outputs": [],
   "source": [
    "import warnings\n",
    "warnings.filterwarnings('ignore')\n",
    "\n",
    "import numpy as np\n",
    "import scipy\n",
    "import plotly.graph_objects as go\n",
    "from plotly.subplots import make_subplots\n",
    "from ipywidgets import interact, FloatSlider, IntSlider\n",
    "import inspect\n",
    "\n",
    "# Get the name of the variable used as argument in a function\n",
    "def varName(var):\n",
    "    lcls = inspect.stack()[2][0].f_locals\n",
    "    for name in lcls:\n",
    "        if id(var) == id(lcls[name]):\n",
    "            return name\n",
    "    return None\n",
    "\n",
    "def show_convolution(t, f, g, t0):\n",
    "\n",
    "    # Get the name of the functions f and g\n",
    "    fname = varName(f)\n",
    "    gname = varName(g)\n",
    "    \n",
    "    # Calculate the convolution using the scipy library and the Simpson's rule to compute integral from samples\n",
    "    convolution = np.zeros(len(t))\n",
    "    for n, t_ in enumerate(t):\n",
    "        prod = lambda tau: f(tau) * g(t_-tau)\n",
    "        convolution[n] = scipy.integrate.simpson(prod(t), t)\n",
    "    \n",
    "    # Create the shifted and flipped functions\n",
    "    f_shift = lambda t: g(t0-t)\n",
    "    prod = lambda tau: f(tau) * g(t0-tau)\n",
    "    \n",
    "    # Prepare the sub-plots\n",
    "    specs = [[{}, {}], [{\"rowspan\": 2, \"colspan\": 2}, None], [None, None], [{\"rowspan\": 2, \"colspan\": 2}, None], [None, None]]\n",
    "    fig = make_subplots(rows=5, cols=2, print_grid=False, specs=specs)\n",
    "\n",
    "    # Plot the values\n",
    "    fig.add_trace(go.Scatter(x=t, y=f(t), name=fname+'(t)'), row=1, col=1)\n",
    "    fig.add_trace(go.Scatter(x=t, y=g(t), name=gname+'(t)'), row=1, col=2)\n",
    "    fig.add_trace(go.Scatter(x=t, y=f(t), name=fname+'(λ)'), row=2, col=1)\n",
    "    fig.add_trace(go.Scatter(x=t, y=f_shift(t), name=gname+'(t-λ)'), row=2, col=1)\n",
    "    fig.add_trace(go.Scatter(x=t, y=prod(t), name=fname+'(λ)'+gname+'(t-λ)', fill='tozeroy'), row=2, col=1)\n",
    "    fig.add_trace(go.Scatter(x=t, y=convolution, name='y(t)='+fname+'(t)*'+gname+'(t)'), row=4, col=1)\n",
    "    fig.add_trace(go.Scatter(x=[t0], y=[scipy.integrate.simpson(prod(t), t)], mode='markers', name='y('+str(round(t0,1))+')'), row=4, col=1)\n",
    "\n",
    "    # Update the layout\n",
    "    fig.update_layout(height=600, title_text='Faltungsintegral y(t) = '+fname+'(t)*'+gname+'(t)', template='plotly_white', xaxis=dict(title_text='t'))\n",
    "    tickvals = np.arange(int(round(min(t))), int(round(max(t)))+1)\n",
    "    ticktext = [str(tick) for tick in tickvals]\n",
    "    ticktext[-2] = 't'\n",
    "    fig.update_xaxes(tickmode='array', tickvals=tickvals, ticktext=ticktext)\n",
    "    ticktext[-2] = 'λ'\n",
    "    fig['layout']['xaxis3']['ticktext'] = ticktext\n",
    "\n",
    "    # Show the figure\n",
    "    fig.show()\n",
    "\n",
    "def step(t):\n",
    "    \"\"\"\n",
    "    ------------------------------------------------------------------------------------------------------------\n",
    "    [Continuous Time]\n",
    "    This function calculates an approximation of the step function x(t) = u(t)\n",
    "\n",
    "    Parameter:\n",
    "        t: a np.ndarray that represents the continuous time axis\n",
    "\n",
    "    Return:\n",
    "        x: a np.ndarray with the step signal x(t) = u(t)\n",
    "    ------------------------------------------------------------------------------------------------------------\n",
    "    \"\"\"  \n",
    "\n",
    "    x = np.zeros(len(t))\n",
    "    for k, tt in enumerate(t):\n",
    "        if tt >= 0:\n",
    "            x[k] = 1.0\n",
    "\n",
    "    return x    \n",
    "\n",
    "\n",
    "def rect(t, tau):\n",
    "    \"\"\"\n",
    "    ------------------------------------------------------------------------------------------------------------\n",
    "    [Continuous Time]\n",
    "    This function calculates an approximation of the rectangular function x(t) = ∏(t/tau)\n",
    "\n",
    "    Parameters:\n",
    "        t: a np.ndarray that represents the continuous time axis\n",
    "        tau: a float with the width of the rectangular pulse\n",
    "\n",
    "    Return:\n",
    "        x: a np.ndarray with the rectangular signal x(t) = ∏(t/tau)\n",
    "    ------------------------------------------------------------------------------------------------------------\n",
    "    \"\"\"          \n",
    "\n",
    "    x = np.zeros(len(t))\n",
    "    for k, tk in enumerate(t):\n",
    "        if np.abs(tk) > tau/2.:\n",
    "            x[k] = 0\n",
    "        else:\n",
    "            x[k] = 1\n",
    "\n",
    "    return x\n",
    "\n",
    "def tri(t, tau):\n",
    "    \"\"\"\n",
    "    ------------------------------------------------------------------------------------------------------------\n",
    "    [Continuous Time]\n",
    "    This function calculates an approximation of the triangular function x(t) = ∧(t/tau)\n",
    "\n",
    "    Parameters:\n",
    "        t: a np.ndarray that represents the continuous time axis\n",
    "        tau: a float with the width of the half of the triangular pulse\n",
    "\n",
    "    Return:\n",
    "        x: a np.ndarray with the triangular signal x(t) = ∧(t/tau)\n",
    "    ------------------------------------------------------------------------------------------------------------   \n",
    "    \"\"\"          \n",
    "\n",
    "    x = np.zeros(len(t))\n",
    "    for k, tk in enumerate(t):\n",
    "        if np.abs(tk) > tau/1.:\n",
    "            x[k] = 0\n",
    "        else:\n",
    "            x[k] = 1 - np.abs(tk)/tau\n",
    "\n",
    "    return x\n"
   ]
  },
  {
   "cell_type": "markdown",
   "metadata": {},
   "source": [
    "<hr style=\"border:solid #000000 1px;height:1px;\">\n",
    "\n",
    "#### Faltungsintegral: \n",
    "__Beispiel__\n",
    "<br/>\n",
    "$x(t) = \\bigwedge(t)$<br/>\n",
    "$h(t) = u(t)e^{-2t}$<br/>\n",
    "$$y(t)=x(t)*h(t)=\\int x(λ)h(t-λ)dλ$$"
   ]
  },
  {
   "cell_type": "code",
   "execution_count": null,
   "metadata": {},
   "outputs": [],
   "source": [
    "def update(t0):\n",
    "\n",
    "    # Set the axis t and the two functions to be convoluted\n",
    "    t = np.arange(-5, 5 + 0.01, 0.01)\n",
    "    x = lambda t: np.maximum(0, 1-abs(t))\n",
    "    h = lambda t: (t>0) * np.exp(-2*t)\n",
    "    \n",
    "    show_convolution(t, x, h, t0)\n",
    "\n",
    "t0 = FloatSlider(min=-4.0, max=5.0, value=-2.0, step=0.1, description='t')\n",
    "interact(update, t0=t0);"
   ]
  },
  {
   "cell_type": "markdown",
   "metadata": {},
   "source": [
    "<hr style=\"border:solid #000000 1px;height:1px;\">\n",
    "\n",
    "#### Faltungsintegral: \n",
    "__Beispiel 5.1__\n",
    "<br/>Betrachten Sie das Eingangssignal $x(t)$ und die Impulsantwort $h(t)$ und berechnen Sie das Faltungsintegral $y(t)=x(t)*h(t)$ : <br/><br/>\n",
    "$x(t) = 2\\prod(t-3,5)$ <br/><br/>\n",
    "$h(t) = \\prod\\left(\\frac{t-1}{2}\\right)$"
   ]
  },
  {
   "cell_type": "code",
   "execution_count": null,
   "metadata": {},
   "outputs": [],
   "source": [
    "def update(t0):\n",
    "\n",
    "    # Set the axis t and the two functions to be convoluted\n",
    "    t = np.arange(-1, 8 + 0.01, 0.01)\n",
    "    x = lambda t: (t>3)*(t<4)*2\n",
    "    h = lambda t: (t>0)*(t<2)*1\n",
    "    #x = lambda t: 2 * rect(t - 3.5, 1)\n",
    "    #h = lambda t: rect(t - 1, 2)    \n",
    "    \n",
    "    show_convolution(t, x, h, t0)\n",
    "\n",
    "t0 = FloatSlider(min=2.0, max=7.0, value=2.0, step=0.1, description='t')\n",
    "interact(update, t0=t0);"
   ]
  },
  {
   "cell_type": "markdown",
   "metadata": {},
   "source": [
    "<hr style=\"border:solid #000000 1px;height:1px;\">\n",
    "\n",
    "#### Faltungsintegral: \n",
    "__Beispiel 5.2__\n",
    "<br/>\n",
    "Betrachten Sie das Eingangssignal $x(t)$ und die Impulsantwort $h(t)$ und berechnen Sie das Faltungsintegral $y(t)=x(t)*h(t)$ : <br/><br/>\n",
    "$x(t) = 2(t-3)\\prod(t-3,5)$<br/><br/>\n",
    "$h(t) = \\prod\\left(\\frac{t-1}{2}\\right)$"
   ]
  },
  {
   "cell_type": "code",
   "execution_count": null,
   "metadata": {},
   "outputs": [],
   "source": [
    "def update(t0):\n",
    "\n",
    "    # Set the axis t and the two functions to be convoluted\n",
    "    t = np.arange(-1, 8 + 0.01, 0.01)\n",
    "    x = lambda t: (t>3)*(t<4)*2*(t-3)\n",
    "    h = lambda t: (t>0)*(t<2)*1\n",
    "    #x = lambda t: 2 * (t -3) * rect(t - 3.5, 1)\n",
    "    #h = lambda t: rect(t - 1, 2)    \n",
    "    \n",
    "    show_convolution(t, x, h, t0)\n",
    "\n",
    "t0 = FloatSlider(min=2.0, max=7.0, value=2.0, step=0.1, description='t')\n",
    "interact(update, t0=t0);"
   ]
  },
  {
   "cell_type": "markdown",
   "metadata": {},
   "source": [
    "<hr style=\"border:solid #000000 1px;height:1px;\">\n",
    "\n",
    "#### Faltungsintegral: \n",
    "__Beispiel 5.3__\n",
    "<br/>\n",
    "Betrachten Sie das Eingangssignal $x(t)$ und die Impulsantwort $h(t)$ und berechnen Sie das Faltungsintegral $y(t)=x(t)*h(t)$ : <br/><br/>\n",
    "$x(t) = sin( \\pi t) u(t)$<br/><br/>\n",
    "$h(t) = \\frac{1}{τ}\\prod\\left(\\frac{t-τ/2}{τ}\\right)$"
   ]
  },
  {
   "cell_type": "code",
   "execution_count": null,
   "metadata": {},
   "outputs": [],
   "source": [
    "def update(t0, tau):\n",
    "    \n",
    "    # Set the axis t and the two functions to be convoluted\n",
    "    t = np.arange(-2, 8 + 0.01, 0.01)\n",
    "    h = lambda t: (t>0) * (t<tau) * 1/tau\n",
    "    x = lambda t: (t>0) * np.sin(np.pi*t)\n",
    "    #x = lambda t: rect(t - tau/2, tau) * 1/tau\n",
    "    #h = lambda t: step(t) * np.sin(np.pi*t)\n",
    "\n",
    "    show_convolution(t, x, h, t0)\n",
    "\n",
    "t0 = FloatSlider(min=-1.0, max=7.0, value=-1.0, step=0.1, description='t')\n",
    "tau = FloatSlider(min=2.0, max=6.0, value=4.0, step=0.1, description='τ')\n",
    "amplitude = FloatSlider(min=0.5, max=2.0, value=0.5, step=0.1, description='A')\n",
    "\n",
    "interact(update, t0=t0, tau=tau);"
   ]
  },
  {
   "cell_type": "markdown",
   "metadata": {},
   "source": [
    "<hr style=\"border:solid #000000 1px;height:1px;\">\n",
    "\n",
    "#### Faltungsintegral: \n",
    "__Hausaufgabe 4, Aufgabe 2__\n",
    "<br/>\n",
    "Betrachten Sie das Eingangssignal $x(t)$ und die Impulsantwort $h(t)$ und berechnen Sie das Faltungsintegral $y(t)=x(t)*h(t)$ : <br/><br/>\n",
    "$x(t) = 3\\prod\\left(\\frac{t-2}{4}\\right)$<br/><br/>\n",
    "$h(t) = 2\\bigwedge\\left(\\frac{t}{2}\\right)u(t)=-(t-2)\\prod\\left(\\frac{t-1}{2}\\right)$"
   ]
  },
  {
   "cell_type": "code",
   "execution_count": null,
   "metadata": {},
   "outputs": [],
   "source": [
    "def update(t0):\n",
    "\n",
    "    # Set the axis t and the two functions to be convoluted\n",
    "    t = np.arange(-1, 8 + 0.01, 0.01)\n",
    "    x = lambda t: (t>0)*(t<4)*3\n",
    "    h = lambda t: (t>0)*(t<2)*(-t+2)\n",
    "    #x = lambda t: rect(t-2,4)\n",
    "    #h = lambda t: 2 * tri(t, 2) * rect(t)\n",
    "    \n",
    "    show_convolution(t, x, h, t0)\n",
    "\n",
    "t0 = FloatSlider(min=2.0, max=7.0, value=2.0, step=0.1, description='t')\n",
    "interact(update, t0=t0);"
   ]
  },
  {
   "cell_type": "markdown",
   "metadata": {},
   "source": [
    "<hr style=\"border:solid #000000 1px;height:1px;\">\n",
    "\n",
    "#### Faltungsintegral: \n",
    "__Hausaufgabe 4, Aufgabe 3__\n",
    "<br/>\n",
    "Betrachten Sie das Eingangssignal $x(t)$ und die Impulsantwort $h(t)$ und berechnen Sie das Faltungsintegral $y(t)=x(t)*h(t)$ : <br/><br/>\n",
    "$x(t) = \\prod\\left(\\frac{t-τ/2}{τ}\\right)$<br/><br/>\n",
    "$h(t) = e^{-∝t}u(t)$"
   ]
  },
  {
   "cell_type": "code",
   "execution_count": null,
   "metadata": {},
   "outputs": [],
   "source": [
    "def update(t0, tau, alpha):\n",
    "    \n",
    "    # Set the axis t and the two functions to be convoluted\n",
    "    t = np.arange(-4, 10 + 0.01, 0.01)\n",
    "    x = lambda t: (t>0)*(t<tau)*1\n",
    "    h = lambda t: (t>0)*np.exp(-alpha*t)\n",
    "    #x = lambda t: rect(t - tau/2, tau)  \n",
    "    #h = lambda t: step(t) * np.exp(-alpha * t)\n",
    "    \n",
    "    show_convolution(t, x, h, t0)\n",
    "\n",
    "t0 = FloatSlider(min=-1.0, max=7.0, value=-1.0, step=0.1, description='t')\n",
    "tau = FloatSlider(min=2.0, max=6.0, value=4.0, step=0.1, description='τ')\n",
    "alpha = FloatSlider(min=0.0, max=2.0, value=1.0, step=0.1, description='∝')\n",
    "\n",
    "interact(update, t0=t0, tau=tau, alpha=alpha);"
   ]
  },
  {
   "cell_type": "code",
   "execution_count": null,
   "metadata": {},
   "outputs": [],
   "source": []
  }
 ],
 "metadata": {
  "colab": {
   "collapsed_sections": [],
   "name": "classification.ipynb",
   "private_outputs": true,
   "provenance": [],
   "toc_visible": true
  },
  "kernelspec": {
   "display_name": "py311_HWR",
   "language": "python",
   "name": "py311_hwr"
  },
  "language_info": {
   "codemirror_mode": {
    "name": "ipython",
    "version": 3
   },
   "file_extension": ".py",
   "mimetype": "text/x-python",
   "name": "python",
   "nbconvert_exporter": "python",
   "pygments_lexer": "ipython3",
   "version": "3.11.9"
  },
  "varInspector": {
   "cols": {
    "lenName": 16,
    "lenType": 16,
    "lenVar": 40
   },
   "kernels_config": {
    "python": {
     "delete_cmd_postfix": "",
     "delete_cmd_prefix": "del ",
     "library": "var_list.py",
     "varRefreshCmd": "print(var_dic_list())"
    },
    "r": {
     "delete_cmd_postfix": ") ",
     "delete_cmd_prefix": "rm(",
     "library": "var_list.r",
     "varRefreshCmd": "cat(var_dic_list()) "
    }
   },
   "types_to_exclude": [
    "module",
    "function",
    "builtin_function_or_method",
    "instance",
    "_Feature"
   ],
   "window_display": false
  },
  "vscode": {
   "interpreter": {
    "hash": "6dd2557d908b52826d694ffbbd39ee35b0c1ac6b1ee97b8628fe6ecc02e31c5a"
   }
  }
 },
 "nbformat": 4,
 "nbformat_minor": 4
}
